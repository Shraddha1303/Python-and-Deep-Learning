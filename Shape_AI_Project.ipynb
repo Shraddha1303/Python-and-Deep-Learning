{
  "nbformat": 4,
  "nbformat_minor": 0,
  "metadata": {
    "colab": {
      "name": "Shape AI Project.ipynb",
      "provenance": [],
      "collapsed_sections": [],
      "authorship_tag": "ABX9TyOMP9SszOSL+FYZFHzSoylX",
      "include_colab_link": true
    },
    "kernelspec": {
      "name": "python3",
      "display_name": "Python 3"
    },
    "language_info": {
      "name": "python"
    }
  },
  "cells": [
    {
      "cell_type": "markdown",
      "metadata": {
        "id": "view-in-github",
        "colab_type": "text"
      },
      "source": [
        "<a href=\"https://colab.research.google.com/github/Shraddha1303/Python-and-Deep-Learning/blob/main/Shape_AI_Project.ipynb\" target=\"_parent\"><img src=\"https://colab.research.google.com/assets/colab-badge.svg\" alt=\"Open In Colab\"/></a>"
      ]
    },
    {
      "cell_type": "markdown",
      "metadata": {
        "id": "ys08iJ_pQZsR"
      },
      "source": [
        "**Python and Deep Learning Bootcamp**"
      ]
    },
    {
      "cell_type": "markdown",
      "metadata": {
        "id": "TJZajcGAUKVq"
      },
      "source": [
        "**Project: To Predict Malignent or Benign Cancer**"
      ]
    },
    {
      "cell_type": "markdown",
      "metadata": {
        "id": "l2GIlH2KUK1I"
      },
      "source": [
        "**Work done by: Shraddha Patange**"
      ]
    },
    {
      "cell_type": "code",
      "metadata": {
        "colab": {
          "base_uri": "https://localhost:8080/"
        },
        "id": "ISKZ6Bl9_Tb9",
        "outputId": "2208101b-a108-40a6-9768-47a710a69364"
      },
      "source": [
        "#importing dataset\n",
        "\n",
        "from sklearn.datasets import load_breast_cancer\n",
        "Data = load_breast_cancer()\n",
        "print(Data.DESCR)\n"
      ],
      "execution_count": 27,
      "outputs": [
        {
          "output_type": "stream",
          "text": [
            ".. _breast_cancer_dataset:\n",
            "\n",
            "Breast cancer wisconsin (diagnostic) dataset\n",
            "--------------------------------------------\n",
            "\n",
            "**Data Set Characteristics:**\n",
            "\n",
            "    :Number of Instances: 569\n",
            "\n",
            "    :Number of Attributes: 30 numeric, predictive attributes and the class\n",
            "\n",
            "    :Attribute Information:\n",
            "        - radius (mean of distances from center to points on the perimeter)\n",
            "        - texture (standard deviation of gray-scale values)\n",
            "        - perimeter\n",
            "        - area\n",
            "        - smoothness (local variation in radius lengths)\n",
            "        - compactness (perimeter^2 / area - 1.0)\n",
            "        - concavity (severity of concave portions of the contour)\n",
            "        - concave points (number of concave portions of the contour)\n",
            "        - symmetry \n",
            "        - fractal dimension (\"coastline approximation\" - 1)\n",
            "\n",
            "        The mean, standard error, and \"worst\" or largest (mean of the three\n",
            "        largest values) of these features were computed for each image,\n",
            "        resulting in 30 features.  For instance, field 3 is Mean Radius, field\n",
            "        13 is Radius SE, field 23 is Worst Radius.\n",
            "\n",
            "        - class:\n",
            "                - WDBC-Malignant\n",
            "                - WDBC-Benign\n",
            "\n",
            "    :Summary Statistics:\n",
            "\n",
            "    ===================================== ====== ======\n",
            "                                           Min    Max\n",
            "    ===================================== ====== ======\n",
            "    radius (mean):                        6.981  28.11\n",
            "    texture (mean):                       9.71   39.28\n",
            "    perimeter (mean):                     43.79  188.5\n",
            "    area (mean):                          143.5  2501.0\n",
            "    smoothness (mean):                    0.053  0.163\n",
            "    compactness (mean):                   0.019  0.345\n",
            "    concavity (mean):                     0.0    0.427\n",
            "    concave points (mean):                0.0    0.201\n",
            "    symmetry (mean):                      0.106  0.304\n",
            "    fractal dimension (mean):             0.05   0.097\n",
            "    radius (standard error):              0.112  2.873\n",
            "    texture (standard error):             0.36   4.885\n",
            "    perimeter (standard error):           0.757  21.98\n",
            "    area (standard error):                6.802  542.2\n",
            "    smoothness (standard error):          0.002  0.031\n",
            "    compactness (standard error):         0.002  0.135\n",
            "    concavity (standard error):           0.0    0.396\n",
            "    concave points (standard error):      0.0    0.053\n",
            "    symmetry (standard error):            0.008  0.079\n",
            "    fractal dimension (standard error):   0.001  0.03\n",
            "    radius (worst):                       7.93   36.04\n",
            "    texture (worst):                      12.02  49.54\n",
            "    perimeter (worst):                    50.41  251.2\n",
            "    area (worst):                         185.2  4254.0\n",
            "    smoothness (worst):                   0.071  0.223\n",
            "    compactness (worst):                  0.027  1.058\n",
            "    concavity (worst):                    0.0    1.252\n",
            "    concave points (worst):               0.0    0.291\n",
            "    symmetry (worst):                     0.156  0.664\n",
            "    fractal dimension (worst):            0.055  0.208\n",
            "    ===================================== ====== ======\n",
            "\n",
            "    :Missing Attribute Values: None\n",
            "\n",
            "    :Class Distribution: 212 - Malignant, 357 - Benign\n",
            "\n",
            "    :Creator:  Dr. William H. Wolberg, W. Nick Street, Olvi L. Mangasarian\n",
            "\n",
            "    :Donor: Nick Street\n",
            "\n",
            "    :Date: November, 1995\n",
            "\n",
            "This is a copy of UCI ML Breast Cancer Wisconsin (Diagnostic) datasets.\n",
            "https://goo.gl/U2Uwz2\n",
            "\n",
            "Features are computed from a digitized image of a fine needle\n",
            "aspirate (FNA) of a breast mass.  They describe\n",
            "characteristics of the cell nuclei present in the image.\n",
            "\n",
            "Separating plane described above was obtained using\n",
            "Multisurface Method-Tree (MSM-T) [K. P. Bennett, \"Decision Tree\n",
            "Construction Via Linear Programming.\" Proceedings of the 4th\n",
            "Midwest Artificial Intelligence and Cognitive Science Society,\n",
            "pp. 97-101, 1992], a classification method which uses linear\n",
            "programming to construct a decision tree.  Relevant features\n",
            "were selected using an exhaustive search in the space of 1-4\n",
            "features and 1-3 separating planes.\n",
            "\n",
            "The actual linear program used to obtain the separating plane\n",
            "in the 3-dimensional space is that described in:\n",
            "[K. P. Bennett and O. L. Mangasarian: \"Robust Linear\n",
            "Programming Discrimination of Two Linearly Inseparable Sets\",\n",
            "Optimization Methods and Software 1, 1992, 23-34].\n",
            "\n",
            "This database is also available through the UW CS ftp server:\n",
            "\n",
            "ftp ftp.cs.wisc.edu\n",
            "cd math-prog/cpo-dataset/machine-learn/WDBC/\n",
            "\n",
            ".. topic:: References\n",
            "\n",
            "   - W.N. Street, W.H. Wolberg and O.L. Mangasarian. Nuclear feature extraction \n",
            "     for breast tumor diagnosis. IS&T/SPIE 1993 International Symposium on \n",
            "     Electronic Imaging: Science and Technology, volume 1905, pages 861-870,\n",
            "     San Jose, CA, 1993.\n",
            "   - O.L. Mangasarian, W.N. Street and W.H. Wolberg. Breast cancer diagnosis and \n",
            "     prognosis via linear programming. Operations Research, 43(4), pages 570-577, \n",
            "     July-August 1995.\n",
            "   - W.H. Wolberg, W.N. Street, and O.L. Mangasarian. Machine learning techniques\n",
            "     to diagnose breast cancer from fine-needle aspirates. Cancer Letters 77 (1994) \n",
            "     163-171.\n"
          ],
          "name": "stdout"
        }
      ]
    },
    {
      "cell_type": "code",
      "metadata": {
        "colab": {
          "base_uri": "https://localhost:8080/"
        },
        "id": "XBpRohmuCNH5",
        "outputId": "a16da1b1-ab58-4df6-e0ea-709766140684"
      },
      "source": [
        "feature = Data.data\n",
        "target = Data.target\n",
        "\n",
        "print(feature.shape)\n",
        "print(target.shape)"
      ],
      "execution_count": 11,
      "outputs": [
        {
          "output_type": "stream",
          "text": [
            "(569, 30)\n",
            "(569,)\n"
          ],
          "name": "stdout"
        }
      ]
    },
    {
      "cell_type": "code",
      "metadata": {
        "colab": {
          "base_uri": "https://localhost:8080/"
        },
        "id": "UP45VJO8C4E3",
        "outputId": "ba0b6bd0-11be-42b7-96d5-e2c0cb690d28"
      },
      "source": [
        "from sklearn.model_selection import train_test_split\n",
        "\n",
        "X_train, X_test, y_train, y_test = train_test_split(feature, target, test_size = 0.2)\n",
        "\n",
        "print(X_train.shape)\n",
        "print(y_train.shape)\n",
        "print(X_test.shape)\n",
        "print(y_test.shape)\n",
        "\n"
      ],
      "execution_count": 12,
      "outputs": [
        {
          "output_type": "stream",
          "text": [
            "(455, 30)\n",
            "(455,)\n",
            "(114, 30)\n",
            "(114,)\n"
          ],
          "name": "stdout"
        }
      ]
    },
    {
      "cell_type": "code",
      "metadata": {
        "id": "TTPto0SEEJZJ"
      },
      "source": [
        "from keras.models import Sequential\n",
        "from keras.layers import Dense"
      ],
      "execution_count": 13,
      "outputs": []
    },
    {
      "cell_type": "code",
      "metadata": {
        "id": "1mUbt8ncEKHO"
      },
      "source": [
        "model = Sequential()\n",
        "model.add(Dense(32, input_dim = 30, activation = 'relu'))\n",
        "model.add(Dense(64, activation = 'relu'))\n",
        "model.add(Dense(1, activation = 'sigmoid'))\n"
      ],
      "execution_count": 14,
      "outputs": []
    },
    {
      "cell_type": "code",
      "metadata": {
        "id": "xjuwL0czLRCD"
      },
      "source": [
        "model.compile(loss = 'binary_crossentropy', optimizer = 'adam', metrics = ['accuracy'])\n"
      ],
      "execution_count": 19,
      "outputs": []
    },
    {
      "cell_type": "code",
      "metadata": {
        "colab": {
          "base_uri": "https://localhost:8080/"
        },
        "id": "2hCGajh6Lsar",
        "outputId": "b2d5eccf-2f13-4545-f50b-737d0f0ff83d"
      },
      "source": [
        "model.summary()"
      ],
      "execution_count": 16,
      "outputs": [
        {
          "output_type": "stream",
          "text": [
            "Model: \"sequential_4\"\n",
            "_________________________________________________________________\n",
            "Layer (type)                 Output Shape              Param #   \n",
            "=================================================================\n",
            "dense_6 (Dense)              (None, 32)                992       \n",
            "_________________________________________________________________\n",
            "dense_7 (Dense)              (None, 64)                2112      \n",
            "_________________________________________________________________\n",
            "dense_8 (Dense)              (None, 1)                 65        \n",
            "=================================================================\n",
            "Total params: 3,169\n",
            "Trainable params: 3,169\n",
            "Non-trainable params: 0\n",
            "_________________________________________________________________\n"
          ],
          "name": "stdout"
        }
      ]
    },
    {
      "cell_type": "code",
      "metadata": {
        "colab": {
          "base_uri": "https://localhost:8080/"
        },
        "id": "seQQFctqL4iq",
        "outputId": "55dc4d6d-f9ed-4dfe-bf7a-a3e595954e23"
      },
      "source": [
        "model.fit(X_train, y_train, epochs=30)\n"
      ],
      "execution_count": 22,
      "outputs": [
        {
          "output_type": "stream",
          "text": [
            "Epoch 1/30\n",
            "15/15 [==============================] - 0s 2ms/step - loss: 0.2182 - accuracy: 0.9319\n",
            "Epoch 2/30\n",
            "15/15 [==============================] - 0s 2ms/step - loss: 0.2491 - accuracy: 0.9187\n",
            "Epoch 3/30\n",
            "15/15 [==============================] - 0s 2ms/step - loss: 0.2545 - accuracy: 0.9121\n",
            "Epoch 4/30\n",
            "15/15 [==============================] - 0s 2ms/step - loss: 0.2321 - accuracy: 0.9275\n",
            "Epoch 5/30\n",
            "15/15 [==============================] - 0s 2ms/step - loss: 0.2444 - accuracy: 0.9165\n",
            "Epoch 6/30\n",
            "15/15 [==============================] - 0s 2ms/step - loss: 0.2444 - accuracy: 0.9099\n",
            "Epoch 7/30\n",
            "15/15 [==============================] - 0s 2ms/step - loss: 0.2857 - accuracy: 0.9077\n",
            "Epoch 8/30\n",
            "15/15 [==============================] - 0s 2ms/step - loss: 0.2886 - accuracy: 0.8879\n",
            "Epoch 9/30\n",
            "15/15 [==============================] - 0s 2ms/step - loss: 0.3026 - accuracy: 0.8945\n",
            "Epoch 10/30\n",
            "15/15 [==============================] - 0s 2ms/step - loss: 0.2353 - accuracy: 0.9165\n",
            "Epoch 11/30\n",
            "15/15 [==============================] - 0s 2ms/step - loss: 0.3574 - accuracy: 0.8813\n",
            "Epoch 12/30\n",
            "15/15 [==============================] - 0s 2ms/step - loss: 0.2334 - accuracy: 0.9253\n",
            "Epoch 13/30\n",
            "15/15 [==============================] - 0s 2ms/step - loss: 0.2466 - accuracy: 0.9143\n",
            "Epoch 14/30\n",
            "15/15 [==============================] - 0s 2ms/step - loss: 0.2526 - accuracy: 0.9011\n",
            "Epoch 15/30\n",
            "15/15 [==============================] - 0s 2ms/step - loss: 0.2886 - accuracy: 0.8835\n",
            "Epoch 16/30\n",
            "15/15 [==============================] - 0s 2ms/step - loss: 0.2157 - accuracy: 0.9209\n",
            "Epoch 17/30\n",
            "15/15 [==============================] - 0s 2ms/step - loss: 0.2966 - accuracy: 0.9077\n",
            "Epoch 18/30\n",
            "15/15 [==============================] - 0s 2ms/step - loss: 0.3092 - accuracy: 0.9011\n",
            "Epoch 19/30\n",
            "15/15 [==============================] - 0s 2ms/step - loss: 0.3037 - accuracy: 0.8769\n",
            "Epoch 20/30\n",
            "15/15 [==============================] - 0s 2ms/step - loss: 0.3727 - accuracy: 0.9055\n",
            "Epoch 21/30\n",
            "15/15 [==============================] - 0s 2ms/step - loss: 0.1978 - accuracy: 0.9319\n",
            "Epoch 22/30\n",
            "15/15 [==============================] - 0s 2ms/step - loss: 0.2307 - accuracy: 0.9253\n",
            "Epoch 23/30\n",
            "15/15 [==============================] - 0s 2ms/step - loss: 0.1776 - accuracy: 0.9319\n",
            "Epoch 24/30\n",
            "15/15 [==============================] - 0s 2ms/step - loss: 0.1752 - accuracy: 0.9363\n",
            "Epoch 25/30\n",
            "15/15 [==============================] - 0s 2ms/step - loss: 0.2796 - accuracy: 0.9077\n",
            "Epoch 26/30\n",
            "15/15 [==============================] - 0s 2ms/step - loss: 0.2626 - accuracy: 0.9143\n",
            "Epoch 27/30\n",
            "15/15 [==============================] - 0s 2ms/step - loss: 0.3485 - accuracy: 0.8725\n",
            "Epoch 28/30\n",
            "15/15 [==============================] - 0s 2ms/step - loss: 0.2733 - accuracy: 0.9099\n",
            "Epoch 29/30\n",
            "15/15 [==============================] - 0s 2ms/step - loss: 0.2211 - accuracy: 0.9275\n",
            "Epoch 30/30\n",
            "15/15 [==============================] - 0s 3ms/step - loss: 0.2133 - accuracy: 0.9231\n"
          ],
          "name": "stdout"
        },
        {
          "output_type": "execute_result",
          "data": {
            "text/plain": [
              "<keras.callbacks.History at 0x7f786d42ef10>"
            ]
          },
          "metadata": {
            "tags": []
          },
          "execution_count": 22
        }
      ]
    },
    {
      "cell_type": "code",
      "metadata": {
        "colab": {
          "base_uri": "https://localhost:8080/"
        },
        "id": "2P5m3cbXNV1K",
        "outputId": "70b97feb-7f26-45db-ced6-ff4d3c847799"
      },
      "source": [
        "scores = model.evaluate(X_test, y_test)\n",
        "print(scores) #returns loss and accuracy"
      ],
      "execution_count": 24,
      "outputs": [
        {
          "output_type": "stream",
          "text": [
            "4/4 [==============================] - 0s 3ms/step - loss: 0.3001 - accuracy: 0.8947\n",
            "[0.30013808608055115, 0.8947368264198303]\n"
          ],
          "name": "stdout"
        }
      ]
    },
    {
      "cell_type": "code",
      "metadata": {
        "colab": {
          "base_uri": "https://localhost:8080/"
        },
        "id": "-MfkOVFsNvVy",
        "outputId": "7b690c3d-d186-47b5-9514-b04948e41e1c"
      },
      "source": [
        "predictions = model.predict(X_test)\n",
        "label =[]\n",
        "for pred in predictions:\n",
        "  if pred>=0.5:\n",
        "    print(\"Malignent\")\n",
        "  else:\n",
        "      print(\"Benign\")\n"
      ],
      "execution_count": 26,
      "outputs": [
        {
          "output_type": "stream",
          "text": [
            "Malignent\n",
            "Malignent\n",
            "Malignent\n",
            "Benign\n",
            "Malignent\n",
            "Malignent\n",
            "Malignent\n",
            "Benign\n",
            "Benign\n",
            "Malignent\n",
            "Benign\n",
            "Malignent\n",
            "Malignent\n",
            "Benign\n",
            "Malignent\n",
            "Benign\n",
            "Malignent\n",
            "Malignent\n",
            "Benign\n",
            "Benign\n",
            "Malignent\n",
            "Malignent\n",
            "Malignent\n",
            "Malignent\n",
            "Malignent\n",
            "Malignent\n",
            "Malignent\n",
            "Benign\n",
            "Malignent\n",
            "Benign\n",
            "Malignent\n",
            "Benign\n",
            "Benign\n",
            "Malignent\n",
            "Malignent\n",
            "Malignent\n",
            "Benign\n",
            "Benign\n",
            "Malignent\n",
            "Malignent\n",
            "Malignent\n",
            "Malignent\n",
            "Malignent\n",
            "Benign\n",
            "Benign\n",
            "Malignent\n",
            "Benign\n",
            "Malignent\n",
            "Malignent\n",
            "Malignent\n",
            "Malignent\n",
            "Malignent\n",
            "Benign\n",
            "Malignent\n",
            "Malignent\n",
            "Malignent\n",
            "Malignent\n",
            "Benign\n",
            "Malignent\n",
            "Benign\n",
            "Benign\n",
            "Benign\n",
            "Malignent\n",
            "Malignent\n",
            "Malignent\n",
            "Malignent\n",
            "Malignent\n",
            "Malignent\n",
            "Malignent\n",
            "Malignent\n",
            "Malignent\n",
            "Malignent\n",
            "Malignent\n",
            "Benign\n",
            "Malignent\n",
            "Malignent\n",
            "Benign\n",
            "Malignent\n",
            "Malignent\n",
            "Benign\n",
            "Malignent\n",
            "Benign\n",
            "Malignent\n",
            "Malignent\n",
            "Malignent\n",
            "Malignent\n",
            "Malignent\n",
            "Malignent\n",
            "Malignent\n",
            "Malignent\n",
            "Malignent\n",
            "Malignent\n",
            "Malignent\n",
            "Malignent\n",
            "Malignent\n",
            "Malignent\n",
            "Malignent\n",
            "Malignent\n",
            "Malignent\n",
            "Malignent\n",
            "Benign\n",
            "Benign\n",
            "Malignent\n",
            "Benign\n",
            "Malignent\n",
            "Malignent\n",
            "Benign\n",
            "Malignent\n",
            "Benign\n",
            "Benign\n",
            "Malignent\n",
            "Malignent\n",
            "Malignent\n",
            "Benign\n"
          ],
          "name": "stdout"
        }
      ]
    }
  ]
}